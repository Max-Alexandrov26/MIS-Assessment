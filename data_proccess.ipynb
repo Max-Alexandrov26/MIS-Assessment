{
 "cells": [
  {
   "cell_type": "code",
   "execution_count": 3,
   "metadata": {},
   "outputs": [],
   "source": [
    "import cv2\n",
    "import os\n",
    "import numpy as np\n",
    "from cv2 import dnn_superres\n",
    "\n",
    "\n"
   ]
  },
  {
   "cell_type": "code",
   "execution_count": 3,
   "metadata": {},
   "outputs": [],
   "source": [
    "# Create an SR object\n",
    "def upscale_image(image_name,input_directory,output_directory):\n",
    "    sr = dnn_superres.DnnSuperResImpl.create()\n",
    "    # Read image\n",
    "    image = cv2.imread(os.path.join(input_directory,image_name))\n",
    "    sr.readModel('LapSRN_x2.pb')  # Choose the upscaling model\n",
    "    sr.setModel('lapsrn', 2)   #Choose the factor\n",
    "\n",
    "    # Upscale the image\n",
    "    result = sr.upsample(image)\n",
    "    cv2.imwrite(output_directory, result)\n"
   ]
  },
  {
   "cell_type": "code",
   "execution_count": 3,
   "metadata": {},
   "outputs": [],
   "source": [
    "def upscale_images_in_directory(input_directory, output_directory):\n",
    "    # Create the output directory if it doesn't exist\n",
    "    if not os.path.exists(output_directory):\n",
    "        os.makedirs(output_directory)\n",
    "\n",
    "    # Iterate through each file in the input directory\n",
    "    for filename in os.listdir(input_directory):\n",
    "        if filename.endswith(('.png', '.jpg', '.jpeg')):\n",
    "            # Construct the full path for the input and output images\n",
    "            output_path = os.path.join(output_directory, filename)\n",
    "            # Upscale the image and get the path to the upscaled image\n",
    "            upscale_image(filename,input_directory, output_path)\n",
    "\n",
    "\n",
    "input_directory = \"training_data/data V8 buildings+planes/train/images\"\n",
    "output_directory = \"upscaled_images\"\n",
    "upscale_images_in_directory(input_directory, output_directory)"
   ]
  },
  {
   "cell_type": "code",
   "execution_count": 22,
   "metadata": {},
   "outputs": [
    {
     "data": {
      "text/plain": [
       "True"
      ]
     },
     "execution_count": 22,
     "metadata": {},
     "output_type": "execute_result"
    }
   ],
   "source": [
    "# Read the image\n",
    "image = cv2.imread('image_5 copy.jpeg')\n",
    "# Define the kernel\n",
    "sharpen_kernel = np.array([[-1,-1,-1], [-1,10,-1], [-1,-1,-1]])\n",
    "# Apply the kernel\n",
    "sharpen = cv2.filter2D(image, -1, sharpen_kernel)\n",
    "# Save image\n",
    "cv2.imwrite('sharpened_image.jpg', sharpen)\n"
   ]
  },
  {
   "cell_type": "code",
   "execution_count": null,
   "metadata": {},
   "outputs": [],
   "source": [
    "def apply_blur_to_images(input_dir, output_dir, blur_strength):\n",
    "    # Check if the input directory exists\n",
    "    if not os.path.exists(input_dir):\n",
    "        print(f\"Error: Input directory '{input_dir}' not found.\")\n",
    "        return\n",
    "    \n",
    "    # Create the output directory if it doesn't exist\n",
    "    if not os.path.exists(output_dir):\n",
    "        os.makedirs(output_dir)\n",
    "        print(f\"Created output directory '{output_dir}'.\")\n",
    "\n",
    "    # Get a list of all files in the input directory\n",
    "    image_files = [f for f in os.listdir(input_dir) if f.lower().endswith(('.png', '.jpg', '.jpeg'))]\n",
    "\n",
    "    # Apply blur to each image and save it to the output directory\n",
    "    for image_file in image_files:\n",
    "        image_path = os.path.join(input_dir, image_file)\n",
    "\n",
    "        # Load the image\n",
    "        image = cv2.imread(image_path)\n",
    "\n",
    "        # Check if the image is loaded successfully\n",
    "        if image is not None:\n",
    "            # Apply blur\n",
    "            blurred_image = cv2.GaussianBlur(image, (blur_strength, blur_strength), 0)\n",
    "\n",
    "            # Save the blurred image to the output directory\n",
    "            output_path = os.path.join(output_dir, f\"{image_file}\")\n",
    "            cv2.imwrite(output_path, blurred_image)\n",
    "            print(f\"Blur applied to '{image_file}' and saved as '{output_path}'.\")\n",
    "        else:\n",
    "            print(f\"Error loading '{image_file}'. Skipping.\")\n",
    "\n",
    "input_directory = 'data V8 version 4 copy/train/images'\n",
    "output_directory = 'blurred_images_v2'\n",
    "blur_strength = 7  # Adjust the blur strength as needed\n",
    "\n",
    "apply_blur_to_images(input_directory, output_directory, blur_strength)\n"
   ]
  },
  {
   "cell_type": "code",
   "execution_count": 19,
   "metadata": {},
   "outputs": [
    {
     "name": "stdout",
     "output_type": "stream",
     "text": [
      "Image successfully split into left and right halves.\n"
     ]
    }
   ],
   "source": [
    "from PIL import Image\n",
    "\n",
    "def split_image(image_path, threshold_width):\n",
    "    # Open the image\n",
    "    img = Image.open(image_path)\n",
    "\n",
    "    # Get the width of the image\n",
    "    img_width, img_height = img.size\n",
    "\n",
    "    # Check if the image size is larger than the threshold\n",
    "    if img_width > threshold_width:\n",
    "        # Calculate the midpoint\n",
    "        midpoint = img_width // 2\n",
    "\n",
    "        # Crop the left half\n",
    "        left_half = img.crop((0, 0, midpoint, img_height))\n",
    "\n",
    "        # Crop the right half\n",
    "        right_half = img.crop((midpoint, 0, img_width, img_height))\n",
    "\n",
    "        # Save the two halves\n",
    "        left_half.save(\"left_half_6.jpg\")\n",
    "        right_half.save(\"right_half_6.jpg\")\n",
    "\n",
    "        print(\"Image successfully split into left and right halves.\")\n",
    "    else:\n",
    "        print(\"Image does not exceed the threshold width.\")\n",
    "\n",
    "image_path = \"test_data/image_6.jpeg\"\n",
    "threshold_width = 800  \n",
    "split_image(image_path, threshold_width)\n"
   ]
  },
  {
   "cell_type": "code",
   "execution_count": null,
   "metadata": {},
   "outputs": [],
   "source": [
    "def convert_to_grayscale(input_dir, output_dir):\n",
    "    # Create the output directory if it doesn't exist\n",
    "    if not os.path.exists(output_dir):\n",
    "        os.makedirs(output_dir)\n",
    "        print(f\"Created output directory '{output_dir}'.\")\n",
    "\n",
    "    # Get a list of all files in the input directory\n",
    "    image_files = [f for f in os.listdir(input_dir) if f.lower().endswith(('.png', '.jpg', '.jpeg'))]\n",
    "\n",
    "    # Convert each image to grayscale and save it to the output directory\n",
    "    for image_file in image_files:\n",
    "        image_path = os.path.join(input_dir, image_file)\n",
    "\n",
    "        # Load the image\n",
    "        image = cv2.imread(image_path)\n",
    "\n",
    "        # Convert to grayscale\n",
    "        grayscale_image = cv2.cvtColor(image, cv2.COLOR_BGR2GRAY)\n",
    "\n",
    "        # Save the grayscale image to the output directory\n",
    "        output_path = os.path.join(output_dir, f\"{image_file}\")\n",
    "        cv2.imwrite(output_path, grayscale_image)\n",
    "\n",
    "\n",
    "input_directory = 'data V8 version 4 copy/train/images'\n",
    "output_directory = 'output__grayscale_images_5'\n",
    "convert_to_grayscale(input_directory, output_directory)"
   ]
  },
  {
   "cell_type": "code",
   "execution_count": 4,
   "metadata": {},
   "outputs": [
    {
     "data": {
      "text/plain": [
       "True"
      ]
     },
     "execution_count": 4,
     "metadata": {},
     "output_type": "execute_result"
    }
   ],
   "source": [
    "image = cv2.imread('image_4 copy.jpeg')\n",
    "\n",
    "# define the alpha and beta\n",
    "alpha = 1.5 # Contrast control\n",
    "beta = 10 # Brightness control\n",
    "\n",
    "# Readjust brightness\n",
    "adjusted = cv2.convertScaleAbs(image, alpha=alpha, beta=beta)\n",
    "\n",
    "cv2.imwrite('bright_4.jpeg', adjusted)"
   ]
  },
  {
   "cell_type": "code",
   "execution_count": 6,
   "metadata": {},
   "outputs": [],
   "source": [
    "\n",
    "\n",
    "def replace_class_in_txt(directory, new_class):\n",
    "    # Iterate through each TXT file in the directory\n",
    "    for txt_file in os.listdir(directory):\n",
    "        if txt_file.endswith(\".txt\"):\n",
    "            # Read lines from the TXT file\n",
    "            file_path = os.path.join(directory, txt_file)\n",
    "            with open(file_path, 'r') as file:\n",
    "                lines = file.read().split('\\n')\n",
    "\n",
    "            # Replace the class in each line with the new class\n",
    "            updated_lines = [f\"{new_class} {' '.join(line.split()[1:])}\" for line in lines]\n",
    "\n",
    "            # Join the updated lines with newline character\n",
    "            updated_content = '\\n'.join(updated_lines)\n",
    "\n",
    "            # Write the updated content back to the TXT file\n",
    "            with open(file_path, 'w') as file:\n",
    "                file.write(updated_content)\n",
    "\n",
    "\n",
    "txt_directory = r'C:\\Users\\Max\\Desktop/train/labels'\n",
    "new_class = 3  # Replace with the desired new class\n",
    "replace_class_in_txt(txt_directory, new_class)\n"
   ]
  }
 ],
 "metadata": {
  "kernelspec": {
   "display_name": "base",
   "language": "python",
   "name": "python3"
  },
  "language_info": {
   "codemirror_mode": {
    "name": "ipython",
    "version": 3
   },
   "file_extension": ".py",
   "mimetype": "text/x-python",
   "name": "python",
   "nbconvert_exporter": "python",
   "pygments_lexer": "ipython3",
   "version": "3.10.12"
  },
  "orig_nbformat": 4
 },
 "nbformat": 4,
 "nbformat_minor": 2
}
